{
  "cells": [
    {
      "cell_type": "code",
      "execution_count": null,
      "metadata": {
        "colab": {
          "base_uri": "https://localhost:8080/"
        },
        "id": "nA2-Q-LnsWak",
        "outputId": "a156aeaa-3f23-48f4-b7ac-0bb9b0c3b5ff"
      },
      "outputs": [
        {
          "output_type": "stream",
          "name": "stdout",
          "text": [
            "Drive already mounted at /content/gdrive; to attempt to forcibly remount, call drive.mount(\"/content/gdrive\", force_remount=True).\n"
          ]
        }
      ],
      "source": [
        "from google.colab import drive\n",
        "drive.mount('/content/gdrive')"
      ]
    },
    {
      "cell_type": "code",
      "execution_count": null,
      "metadata": {
        "id": "52x2kRcfsZNf"
      },
      "outputs": [],
      "source": [
        "import os\n",
        "os.environ['KAGGLE_CONFIG_DIR'] = \"/content/gdrive/My Drive/Kaggle\""
      ]
    },
    {
      "cell_type": "code",
      "execution_count": null,
      "metadata": {
        "colab": {
          "base_uri": "https://localhost:8080/"
        },
        "id": "iXEi4aoYtOt5",
        "outputId": "5fc3df4f-b431-4d21-9406-64d4ffd4a8ea"
      },
      "outputs": [
        {
          "output_type": "stream",
          "name": "stdout",
          "text": [
            "/content/gdrive/My Drive/Kaggle\n"
          ]
        }
      ],
      "source": [
        "#changing the working directory\n",
        "%cd /content/gdrive/My Drive/Kaggle"
      ]
    },
    {
      "cell_type": "code",
      "execution_count": null,
      "metadata": {
        "colab": {
          "base_uri": "https://localhost:8080/",
          "height": 36
        },
        "id": "ItxPfKi2tS2E",
        "outputId": "358b7e00-da61-44d5-a411-eecd0bacfaf8"
      },
      "outputs": [
        {
          "output_type": "execute_result",
          "data": {
            "text/plain": [
              "'/content/gdrive/My Drive/Kaggle'"
            ],
            "application/vnd.google.colaboratory.intrinsic+json": {
              "type": "string"
            }
          },
          "metadata": {},
          "execution_count": 4
        }
      ],
      "source": [
        "pwd"
      ]
    },
    {
      "cell_type": "code",
      "execution_count": null,
      "metadata": {
        "colab": {
          "base_uri": "https://localhost:8080/"
        },
        "id": "tpgJI4N0tUlq",
        "outputId": "13b102e3-1886-439c-c269-1de44b5460c5"
      },
      "outputs": [
        {
          "output_type": "stream",
          "name": "stdout",
          "text": [
            "alzheimers-dataset-4-class-of-images.zip: Skipping, found more recently modified local copy (use --force to force download)\n"
          ]
        }
      ],
      "source": [
        "!kaggle datasets download -d tourist55/alzheimers-dataset-4-class-of-images"
      ]
    },
    {
      "cell_type": "code",
      "execution_count": null,
      "metadata": {
        "colab": {
          "base_uri": "https://localhost:8080/"
        },
        "id": "Gq2KHt8HtfXW",
        "outputId": "bd34228b-19cc-4e31-f114-841d84bcf3fa"
      },
      "outputs": [
        {
          "output_type": "stream",
          "name": "stdout",
          "text": [
            "'Alzheimer_s Dataset'   alzheimers-dataset-4-class-of-images.zip   dataset   kaggle.json\n"
          ]
        }
      ],
      "source": [
        "!ls"
      ]
    },
    {
      "cell_type": "code",
      "execution_count": null,
      "metadata": {
        "colab": {
          "background_save": true,
          "base_uri": "https://localhost:8080/"
        },
        "id": "iUdJ6JKwtreK",
        "outputId": "6c83df2a-4439-4399-fe8b-2d63aec2dd1b"
      },
      "outputs": [
        {
          "name": "stdout",
          "output_type": "stream",
          "text": [
            "Archive:  alzheimers-dataset-4-class-of-images.zip\n",
            "replace Alzheimer_s Dataset/test/MildDemented/26 (19).jpg? [y]es, [n]o, [A]ll, [N]one, [r]ename: "
          ]
        }
      ],
      "source": [
        "#unzipping the zip files and deleting the zip files\n",
        "!unzip \\*.zip  && rm *.zip"
      ]
    },
    {
      "cell_type": "code",
      "execution_count": null,
      "metadata": {
        "colab": {
          "base_uri": "https://localhost:8080/"
        },
        "id": "aOD31bR4tvao",
        "outputId": "669130dd-1a17-4a93-dccf-4b1702d24945"
      },
      "outputs": [
        {
          "output_type": "stream",
          "name": "stdout",
          "text": [
            "'Alzheimer_s Dataset'   alzheimers-dataset-4-class-of-images.zip   dataset   kaggle.json\n"
          ]
        }
      ],
      "source": [
        "!ls"
      ]
    },
    {
      "cell_type": "code",
      "execution_count": null,
      "metadata": {
        "id": "Vb30SwaQuKXR"
      },
      "outputs": [],
      "source": [
        "trainPath = \"/content/gdrive/MyDrive/Kaggle/Alzheimer_s Dataset/train\"\n",
        "testPath = \"/content/gdrive/MyDrive/Kaggle/Alzheimer_s Dataset/test\""
      ]
    },
    {
      "cell_type": "code",
      "execution_count": null,
      "metadata": {
        "id": "giDeOVrHucRK"
      },
      "outputs": [],
      "source": [
        "from tensorflow.keras.layers import Dense, Flatten, Input, Dropout\n",
        "from tensorflow.keras.models import Model\n",
        "from tensorflow.keras.preprocessing import image\n",
        "from tensorflow.keras.preprocessing.image import ImageDataGenerator, load_img\n",
        "from tensorflow.keras.applications.xception import Xception\n",
        "import numpy as np\n",
        "import pandas as pd\n"
      ]
    },
    {
      "cell_type": "code",
      "execution_count": null,
      "metadata": {
        "colab": {
          "base_uri": "https://localhost:8080/"
        },
        "id": "BD_nZLzLvMOK",
        "outputId": "a6caebc0-e3b9-47ef-9814-2c79d3bc947f"
      },
      "outputs": [
        {
          "output_type": "stream",
          "name": "stdout",
          "text": [
            "TensorFlow Version: 2.14.0\n"
          ]
        }
      ],
      "source": [
        "import seaborn as sns\n",
        "import tensorflow as tf\n",
        "import matplotlib.pyplot as plt\n",
        "\n",
        "import os\n",
        "from distutils.dir_util import copy_tree, remove_tree\n",
        "\n",
        "from PIL import Image\n",
        "from random import randint\n",
        "\n",
        "from imblearn.over_sampling import SMOTE\n",
        "from sklearn.model_selection import train_test_split\n",
        "from sklearn.metrics import classification_report, confusion_matrix\n",
        "\n",
        "#import tensorflow_addons as tfa\n",
        "#from keras.utils.vis_utils import plot_model\n",
        "from tensorflow.keras import Sequential, Input\n",
        "from tensorflow.keras.layers import Dense, Dropout\n",
        "from tensorflow.keras.layers import Conv2D, Flatten\n",
        "from tensorflow.keras.callbacks import ReduceLROnPlateau\n",
        "from tensorflow.keras.applications.inception_v3 import InceptionV3\n",
        "from tensorflow.keras.preprocessing.image import ImageDataGenerator as IDG\n",
        "from tensorflow.keras.layers import SeparableConv2D, BatchNormalization, GlobalAveragePooling2D\n",
        "\n",
        "\n",
        "print(\"TensorFlow Version:\", tf.__version__)"
      ]
    },
    {
      "cell_type": "code",
      "source": [
        "device_name = tf.test.gpu_device_name()\n",
        "if device_name != '/device:GPU:0':\n",
        "  raise SystemError('GPU device not found')\n",
        "print('Found GPU at: {}'.format(device_name))"
      ],
      "metadata": {
        "colab": {
          "base_uri": "https://localhost:8080/"
        },
        "id": "KtOdtuHhnQBc",
        "outputId": "40a38a83-29b5-4800-c1e3-5f975feb3521"
      },
      "execution_count": null,
      "outputs": [
        {
          "output_type": "stream",
          "name": "stdout",
          "text": [
            "Found GPU at: /device:GPU:0\n"
          ]
        }
      ]
    },
    {
      "cell_type": "code",
      "execution_count": null,
      "metadata": {
        "colab": {
          "base_uri": "https://localhost:8080/"
        },
        "id": "jyTR9ziYxmTa",
        "outputId": "6fffa470-56cd-4143-aacd-c13394040646"
      },
      "outputs": [
        {
          "output_type": "stream",
          "name": "stdout",
          "text": [
            "Found 5121 images belonging to 4 classes.\n"
          ]
        }
      ],
      "source": [
        "with tf.device('/device:GPU:0'):\n",
        "  IMG_SIZE = 180\n",
        "  IMAGE_SIZE = [180,180]\n",
        "  DIM = (IMG_SIZE, IMG_SIZE)\n",
        "  ZOOM = [.99, 1.01]\n",
        "  BRIGHT_RANGE = [0.8, 1.2]\n",
        "  HORZ_FLIP = True\n",
        "  FILL_MODE = \"constant\"\n",
        "  DATA_FORMAT = \"channels_last\"\n",
        "  WORK_DIR = \"/content/gdrive/MyDrive/Kaggle/Alzheimer_s Dataset/train\"\n",
        "  work_dr = IDG(rescale = 1./255, brightness_range=BRIGHT_RANGE, zoom_range=ZOOM, data_format=DATA_FORMAT, fill_mode=FILL_MODE, horizontal_flip=HORZ_FLIP)\n",
        "  train_data_gen = work_dr.flow_from_directory(directory=WORK_DIR, target_size=DIM, batch_size=5200, shuffle=False)"
      ]
    },
    {
      "cell_type": "code",
      "execution_count": null,
      "metadata": {
        "id": "8B0bhQGr0kL0"
      },
      "outputs": [],
      "source": [
        "with tf.device('/device:GPU:0'):\n",
        "  train_data, train_labels = train_data_gen.next()"
      ]
    },
    {
      "cell_type": "code",
      "execution_count": null,
      "metadata": {
        "colab": {
          "base_uri": "https://localhost:8080/"
        },
        "id": "KQ1Hl0I81Eox",
        "outputId": "c76fe439-6273-4b19-f19e-5c199762c0be"
      },
      "outputs": [
        {
          "output_type": "stream",
          "name": "stdout",
          "text": [
            "(5121, 180, 180, 3) (5121, 4)\n"
          ]
        }
      ],
      "source": [
        "print(train_data.shape, train_labels.shape)"
      ]
    },
    {
      "cell_type": "code",
      "execution_count": null,
      "metadata": {
        "id": "Rsp2UnsN1Vzj",
        "colab": {
          "base_uri": "https://localhost:8080/"
        },
        "outputId": "879e12a5-0ba1-4d39-87b9-eeeacf263966"
      },
      "outputs": [
        {
          "output_type": "stream",
          "name": "stdout",
          "text": [
            "(10240, 180, 180, 3) (10240, 4)\n"
          ]
        }
      ],
      "source": [
        "#Performing over-sampling of the data, since the classes are imbalanced\n",
        "with tf.device('/device:GPU:0'):\n",
        "  sm = SMOTE(random_state=42)\n",
        "\n",
        "  train_data, train_labels = sm.fit_resample(train_data.reshape(-1, IMG_SIZE * IMG_SIZE * 3), train_labels)\n",
        "\n",
        "  train_data = train_data.reshape(-1, IMG_SIZE, IMG_SIZE, 3)\n",
        "\n",
        "  print(train_data.shape, train_labels.shape)"
      ]
    },
    {
      "cell_type": "code",
      "execution_count": null,
      "metadata": {
        "id": "9OVq91us1brT"
      },
      "outputs": [],
      "source": [
        "with tf.device('/device:GPU:0'):\n",
        "  #Splitting the data into train, test, and validation sets\n",
        "\n",
        "  train_data, test_data, train_labels, test_labels = train_test_split(train_data, train_labels, test_size = 0.2, random_state=42)\n",
        "  train_data, val_data, train_labels, val_labels = train_test_split(train_data, train_labels, test_size = 0.2, random_state=42)"
      ]
    },
    {
      "cell_type": "code",
      "execution_count": null,
      "metadata": {
        "colab": {
          "base_uri": "https://localhost:8080/"
        },
        "id": "8ZH1ijeq2PCA",
        "outputId": "277c7671-abc3-476e-bb6c-0b7bf3bb5db2"
      },
      "outputs": [
        {
          "output_type": "stream",
          "name": "stdout",
          "text": [
            "(6553, 180, 180, 3)\n",
            "(1639, 180, 180, 3)\n",
            "(2048, 180, 180, 3)\n"
          ]
        }
      ],
      "source": [
        "print(train_data.shape)\n",
        "print(val_data.shape)\n",
        "print(test_data.shape)"
      ]
    },
    {
      "cell_type": "code",
      "execution_count": null,
      "metadata": {
        "id": "okHfbg4y2STA"
      },
      "outputs": [],
      "source": [
        "with tf.device('/device:GPU:0'):\n",
        "  #Model building\n",
        "  xcept_model = Xception(input_shape=IMAGE_SIZE+[3], weights='imagenet', include_top=False)"
      ]
    },
    {
      "cell_type": "code",
      "execution_count": null,
      "metadata": {
        "id": "imwidrTU2_7F"
      },
      "outputs": [],
      "source": [
        "with tf.device('/device:GPU:0'):\n",
        "  for layer in xcept_model.layers:\n",
        "    layer.trainable=False"
      ]
    },
    {
      "cell_type": "code",
      "execution_count": null,
      "metadata": {
        "id": "Ki58av-l3Jka"
      },
      "outputs": [],
      "source": [
        "with tf.device('/device:GPU:0'):\n",
        "  # Creating sequential layers\n",
        "\n",
        "  custom_inception_model = Sequential([\n",
        "      xcept_model,\n",
        "      Dropout(0.5),\n",
        "      GlobalAveragePooling2D(),\n",
        "      Flatten(),\n",
        "      BatchNormalization(),\n",
        "      Dense(512, activation='relu'),\n",
        "      BatchNormalization(),\n",
        "      Dropout(0.5),\n",
        "      Dense(256, activation='relu'),\n",
        "      BatchNormalization(),\n",
        "      Dropout(0.5),\n",
        "      Dense(128, activation='relu'),\n",
        "      BatchNormalization(),\n",
        "      Dropout(0.5),\n",
        "      Dense(64, activation='relu'),\n",
        "      Dropout(0.5),\n",
        "      BatchNormalization(),\n",
        "      Dense(4, activation='softmax')\n",
        "    ], name = \"inception_cnn_model\")"
      ]
    },
    {
      "cell_type": "code",
      "execution_count": null,
      "metadata": {
        "colab": {
          "base_uri": "https://localhost:8080/"
        },
        "id": "G7Q4F1lL4eER",
        "outputId": "fdec308d-5847-416e-bb5f-c3303f8cd503"
      },
      "outputs": [
        {
          "output_type": "stream",
          "name": "stdout",
          "text": [
            "Model: \"inception_cnn_model\"\n",
            "_________________________________________________________________\n",
            " Layer (type)                Output Shape              Param #   \n",
            "=================================================================\n",
            " xception (Functional)       (None, 6, 6, 2048)        20861480  \n",
            "                                                                 \n",
            " dropout (Dropout)           (None, 6, 6, 2048)        0         \n",
            "                                                                 \n",
            " global_average_pooling2d (  (None, 2048)              0         \n",
            " GlobalAveragePooling2D)                                         \n",
            "                                                                 \n",
            " flatten (Flatten)           (None, 2048)              0         \n",
            "                                                                 \n",
            " batch_normalization_4 (Bat  (None, 2048)              8192      \n",
            " chNormalization)                                                \n",
            "                                                                 \n",
            " dense (Dense)               (None, 512)               1049088   \n",
            "                                                                 \n",
            " batch_normalization_5 (Bat  (None, 512)               2048      \n",
            " chNormalization)                                                \n",
            "                                                                 \n",
            " dropout_1 (Dropout)         (None, 512)               0         \n",
            "                                                                 \n",
            " dense_1 (Dense)             (None, 256)               131328    \n",
            "                                                                 \n",
            " batch_normalization_6 (Bat  (None, 256)               1024      \n",
            " chNormalization)                                                \n",
            "                                                                 \n",
            " dropout_2 (Dropout)         (None, 256)               0         \n",
            "                                                                 \n",
            " dense_2 (Dense)             (None, 128)               32896     \n",
            "                                                                 \n",
            " batch_normalization_7 (Bat  (None, 128)               512       \n",
            " chNormalization)                                                \n",
            "                                                                 \n",
            " dropout_3 (Dropout)         (None, 128)               0         \n",
            "                                                                 \n",
            " dense_3 (Dense)             (None, 64)                8256      \n",
            "                                                                 \n",
            " dropout_4 (Dropout)         (None, 64)                0         \n",
            "                                                                 \n",
            " batch_normalization_8 (Bat  (None, 64)                256       \n",
            " chNormalization)                                                \n",
            "                                                                 \n",
            " dense_4 (Dense)             (None, 4)                 260       \n",
            "                                                                 \n",
            "=================================================================\n",
            "Total params: 22095340 (84.29 MB)\n",
            "Trainable params: 1227844 (4.68 MB)\n",
            "Non-trainable params: 20867496 (79.60 MB)\n",
            "_________________________________________________________________\n"
          ]
        }
      ],
      "source": [
        "with tf.device('/device:GPU:0'):\n",
        "  METRICS = [\n",
        "        tf.keras.metrics.CategoricalAccuracy(name='accuracy'),\n",
        "        tf.keras.metrics.Precision(name='precision'),\n",
        "        tf.keras.metrics.Recall(name='recall'),\n",
        "       tf.keras.metrics.AUC(name='auc')\n",
        "  ]\n",
        "\n",
        "# CALLBACKS = rop_callback\n",
        "\n",
        "  custom_inception_model.compile(optimizer='rmsprop',\n",
        "                              loss=tf.losses.CategoricalCrossentropy(),\n",
        "                              metrics=METRICS)\n",
        "\n",
        "  custom_inception_model.summary()"
      ]
    },
    {
      "cell_type": "code",
      "execution_count": null,
      "metadata": {
        "colab": {
          "base_uri": "https://localhost:8080/"
        },
        "id": "USFBaa8D4-5c",
        "outputId": "e46893ae-cedb-4372-9dcd-2e31586b793a"
      },
      "outputs": [
        {
          "output_type": "stream",
          "name": "stdout",
          "text": [
            "Epoch 1/30\n",
            "205/205 [==============================] - 44s 127ms/step - loss: 1.4080 - accuracy: 0.4204 - precision: 0.4789 - recall: 0.3142 - auc: 0.6924 - val_loss: 0.8861 - val_accuracy: 0.5937 - val_precision: 0.7834 - val_recall: 0.3618 - val_auc: 0.8597\n",
            "Epoch 2/30\n",
            "205/205 [==============================] - 22s 108ms/step - loss: 0.9248 - accuracy: 0.5869 - precision: 0.6742 - recall: 0.4557 - auc: 0.8471 - val_loss: 0.6958 - val_accuracy: 0.6779 - val_precision: 0.8104 - val_recall: 0.4930 - val_auc: 0.9099\n",
            "Epoch 3/30\n",
            "205/205 [==============================] - 23s 112ms/step - loss: 0.8004 - accuracy: 0.6345 - precision: 0.7411 - recall: 0.4940 - auc: 0.8828 - val_loss: 0.6674 - val_accuracy: 0.6931 - val_precision: 0.8211 - val_recall: 0.5125 - val_auc: 0.9160\n",
            "Epoch 4/30\n",
            "205/205 [==============================] - 22s 107ms/step - loss: 0.7229 - accuracy: 0.6664 - precision: 0.7742 - recall: 0.5237 - auc: 0.9038 - val_loss: 0.6260 - val_accuracy: 0.6974 - val_precision: 0.8361 - val_recall: 0.5259 - val_auc: 0.9257\n",
            "Epoch 5/30\n",
            "205/205 [==============================] - 23s 112ms/step - loss: 0.6863 - accuracy: 0.6792 - precision: 0.7782 - recall: 0.5483 - auc: 0.9135 - val_loss: 0.6044 - val_accuracy: 0.7169 - val_precision: 0.8030 - val_recall: 0.5845 - val_auc: 0.9297\n",
            "Epoch 6/30\n",
            "205/205 [==============================] - 23s 112ms/step - loss: 0.6476 - accuracy: 0.7087 - precision: 0.7947 - recall: 0.6008 - auc: 0.9241 - val_loss: 0.5729 - val_accuracy: 0.7370 - val_precision: 0.8286 - val_recall: 0.6193 - val_auc: 0.9380\n",
            "Epoch 7/30\n",
            "205/205 [==============================] - 22s 107ms/step - loss: 0.6239 - accuracy: 0.7249 - precision: 0.7872 - recall: 0.6304 - auc: 0.9298 - val_loss: 0.5519 - val_accuracy: 0.7480 - val_precision: 0.8109 - val_recall: 0.6565 - val_auc: 0.9424\n",
            "Epoch 8/30\n",
            "205/205 [==============================] - 23s 112ms/step - loss: 0.5876 - accuracy: 0.7447 - precision: 0.7971 - recall: 0.6739 - auc: 0.9380 - val_loss: 0.5550 - val_accuracy: 0.7566 - val_precision: 0.7993 - val_recall: 0.6901 - val_auc: 0.9432\n",
            "Epoch 9/30\n",
            "205/205 [==============================] - 23s 111ms/step - loss: 0.5550 - accuracy: 0.7595 - precision: 0.8033 - recall: 0.7006 - auc: 0.9448 - val_loss: 0.5336 - val_accuracy: 0.7590 - val_precision: 0.7975 - val_recall: 0.7065 - val_auc: 0.9473\n",
            "Epoch 10/30\n",
            "205/205 [==============================] - 22s 107ms/step - loss: 0.5360 - accuracy: 0.7729 - precision: 0.8146 - recall: 0.7186 - auc: 0.9485 - val_loss: 0.5028 - val_accuracy: 0.7718 - val_precision: 0.8124 - val_recall: 0.7346 - val_auc: 0.9528\n",
            "Epoch 11/30\n",
            "205/205 [==============================] - 23s 112ms/step - loss: 0.5282 - accuracy: 0.7819 - precision: 0.8236 - recall: 0.7374 - auc: 0.9506 - val_loss: 0.4916 - val_accuracy: 0.7858 - val_precision: 0.8234 - val_recall: 0.7511 - val_auc: 0.9560\n",
            "Epoch 12/30\n",
            "205/205 [==============================] - 22s 107ms/step - loss: 0.4999 - accuracy: 0.7964 - precision: 0.8325 - recall: 0.7523 - auc: 0.9558 - val_loss: 0.4886 - val_accuracy: 0.7938 - val_precision: 0.8234 - val_recall: 0.7566 - val_auc: 0.9571\n",
            "Epoch 13/30\n",
            "205/205 [==============================] - 23s 111ms/step - loss: 0.4738 - accuracy: 0.8114 - precision: 0.8428 - recall: 0.7755 - auc: 0.9602 - val_loss: 0.4525 - val_accuracy: 0.8084 - val_precision: 0.8311 - val_recall: 0.7834 - val_auc: 0.9629\n",
            "Epoch 14/30\n",
            "205/205 [==============================] - 22s 106ms/step - loss: 0.4608 - accuracy: 0.8163 - precision: 0.8479 - recall: 0.7838 - auc: 0.9624 - val_loss: 0.4397 - val_accuracy: 0.8139 - val_precision: 0.8416 - val_recall: 0.7846 - val_auc: 0.9651\n",
            "Epoch 15/30\n",
            "205/205 [==============================] - 22s 107ms/step - loss: 0.4466 - accuracy: 0.8253 - precision: 0.8530 - recall: 0.7935 - auc: 0.9644 - val_loss: 0.4487 - val_accuracy: 0.8121 - val_precision: 0.8311 - val_recall: 0.7865 - val_auc: 0.9641\n",
            "Epoch 16/30\n",
            "205/205 [==============================] - 23s 112ms/step - loss: 0.4249 - accuracy: 0.8366 - precision: 0.8585 - recall: 0.8067 - auc: 0.9679 - val_loss: 0.4539 - val_accuracy: 0.8170 - val_precision: 0.8379 - val_recall: 0.7913 - val_auc: 0.9637\n",
            "Epoch 17/30\n",
            "205/205 [==============================] - 23s 111ms/step - loss: 0.4105 - accuracy: 0.8418 - precision: 0.8638 - recall: 0.8175 - auc: 0.9699 - val_loss: 0.4411 - val_accuracy: 0.8261 - val_precision: 0.8447 - val_recall: 0.7932 - val_auc: 0.9657\n",
            "Epoch 18/30\n",
            "205/205 [==============================] - 23s 112ms/step - loss: 0.4007 - accuracy: 0.8448 - precision: 0.8684 - recall: 0.8198 - auc: 0.9711 - val_loss: 0.4051 - val_accuracy: 0.8304 - val_precision: 0.8528 - val_recall: 0.8133 - val_auc: 0.9710\n",
            "Epoch 19/30\n",
            "205/205 [==============================] - 23s 112ms/step - loss: 0.3800 - accuracy: 0.8582 - precision: 0.8773 - recall: 0.8367 - auc: 0.9740 - val_loss: 0.3940 - val_accuracy: 0.8426 - val_precision: 0.8624 - val_recall: 0.8182 - val_auc: 0.9724\n",
            "Epoch 20/30\n",
            "205/205 [==============================] - 22s 107ms/step - loss: 0.3587 - accuracy: 0.8656 - precision: 0.8858 - recall: 0.8437 - auc: 0.9765 - val_loss: 0.3973 - val_accuracy: 0.8334 - val_precision: 0.8530 - val_recall: 0.8212 - val_auc: 0.9723\n",
            "Epoch 21/30\n",
            "205/205 [==============================] - 22s 106ms/step - loss: 0.3522 - accuracy: 0.8715 - precision: 0.8875 - recall: 0.8520 - auc: 0.9773 - val_loss: 0.3963 - val_accuracy: 0.8420 - val_precision: 0.8593 - val_recall: 0.8273 - val_auc: 0.9725\n",
            "Epoch 22/30\n",
            "205/205 [==============================] - 23s 112ms/step - loss: 0.3552 - accuracy: 0.8694 - precision: 0.8874 - recall: 0.8492 - auc: 0.9769 - val_loss: 0.3825 - val_accuracy: 0.8530 - val_precision: 0.8748 - val_recall: 0.8316 - val_auc: 0.9742\n",
            "Epoch 23/30\n",
            "205/205 [==============================] - 22s 107ms/step - loss: 0.3228 - accuracy: 0.8810 - precision: 0.8952 - recall: 0.8666 - auc: 0.9804 - val_loss: 0.4030 - val_accuracy: 0.8505 - val_precision: 0.8669 - val_recall: 0.8347 - val_auc: 0.9724\n",
            "Epoch 24/30\n",
            "205/205 [==============================] - 23s 111ms/step - loss: 0.3353 - accuracy: 0.8782 - precision: 0.8915 - recall: 0.8639 - auc: 0.9791 - val_loss: 0.3744 - val_accuracy: 0.8536 - val_precision: 0.8656 - val_recall: 0.8408 - val_auc: 0.9759\n",
            "Epoch 25/30\n",
            "205/205 [==============================] - 22s 107ms/step - loss: 0.3229 - accuracy: 0.8843 - precision: 0.8988 - recall: 0.8706 - auc: 0.9803 - val_loss: 0.3452 - val_accuracy: 0.8597 - val_precision: 0.8708 - val_recall: 0.8432 - val_auc: 0.9786\n",
            "Epoch 26/30\n",
            "205/205 [==============================] - 23s 112ms/step - loss: 0.3068 - accuracy: 0.8860 - precision: 0.8980 - recall: 0.8747 - auc: 0.9821 - val_loss: 0.3463 - val_accuracy: 0.8676 - val_precision: 0.8798 - val_recall: 0.8572 - val_auc: 0.9786\n",
            "Epoch 27/30\n",
            "205/205 [==============================] - 22s 107ms/step - loss: 0.3110 - accuracy: 0.8906 - precision: 0.9031 - recall: 0.8758 - auc: 0.9817 - val_loss: 0.3333 - val_accuracy: 0.8688 - val_precision: 0.8732 - val_recall: 0.8572 - val_auc: 0.9800\n",
            "Epoch 28/30\n",
            "205/205 [==============================] - 23s 111ms/step - loss: 0.2972 - accuracy: 0.8901 - precision: 0.9014 - recall: 0.8799 - auc: 0.9834 - val_loss: 0.3449 - val_accuracy: 0.8670 - val_precision: 0.8796 - val_recall: 0.8603 - val_auc: 0.9792\n",
            "Epoch 29/30\n",
            "205/205 [==============================] - 22s 107ms/step - loss: 0.2822 - accuracy: 0.8994 - precision: 0.9104 - recall: 0.8866 - auc: 0.9847 - val_loss: 0.3468 - val_accuracy: 0.8627 - val_precision: 0.8753 - val_recall: 0.8481 - val_auc: 0.9781\n",
            "Epoch 30/30\n",
            "205/205 [==============================] - 23s 113ms/step - loss: 0.2813 - accuracy: 0.8999 - precision: 0.9093 - recall: 0.8878 - auc: 0.9847 - val_loss: 0.3651 - val_accuracy: 0.8591 - val_precision: 0.8722 - val_recall: 0.8450 - val_auc: 0.9777\n"
          ]
        }
      ],
      "source": [
        "with tf.device('/device:GPU:0'):\n",
        "  # Train the model\n",
        "  history = custom_inception_model.fit(train_data, train_labels, validation_data=(val_data, val_labels), epochs=30)"
      ]
    },
    {
      "cell_type": "code",
      "source": [
        "custom_inception_model.save('adp.h5')"
      ],
      "metadata": {
        "colab": {
          "base_uri": "https://localhost:8080/"
        },
        "id": "dvl8WInb3ud4",
        "outputId": "78c2a73c-aeb0-4aaf-f291-f6d5e603e320"
      },
      "execution_count": null,
      "outputs": [
        {
          "output_type": "stream",
          "name": "stderr",
          "text": [
            "/usr/local/lib/python3.10/dist-packages/keras/src/engine/training.py:3079: UserWarning: You are saving your model as an HDF5 file via `model.save()`. This file format is considered legacy. We recommend using instead the native Keras format, e.g. `model.save('my_model.keras')`.\n",
            "  saving_api.save_model(\n"
          ]
        }
      ]
    },
    {
      "cell_type": "code",
      "execution_count": null,
      "metadata": {
        "colab": {
          "base_uri": "https://localhost:8080/",
          "height": 294
        },
        "id": "j-hmvUfj5U_h",
        "outputId": "f13bcba1-a3c0-4d56-eef2-7d97663419a0"
      },
      "outputs": [
        {
          "output_type": "display_data",
          "data": {
            "text/plain": [
              "<Figure size 3000x500 with 3 Axes>"
            ],
            "image/png": "[encoded data removed]"
          },
          "metadata": {}
        }
      ],
      "source": [
        "with tf.device('/device:GPU:0'):\n",
        "  fig, ax = plt.subplots(1, 3, figsize = (30, 5))\n",
        "  ax = ax.ravel()\n",
        "\n",
        "  for i, metric in enumerate([\"accuracy\", \"auc\", \"loss\"]):\n",
        "      ax[i].plot(history.history[metric])\n",
        "      ax[i].plot(history.history[\"val_\" + metric])\n",
        "      ax[i].set_title(\"Model {}\".format(metric))\n",
        "      ax[i].set_xlabel(\"Epochs\")\n",
        "      ax[i].set_ylabel(metric)\n",
        "      ax[i].legend([\"train\", \"val\"])"
      ]
    },
    {
      "cell_type": "code",
      "execution_count": null,
      "metadata": {
        "id": "bPWpuOGDG17z"
      },
      "outputs": [],
      "source": []
    }
  ],
  "metadata": {
    "accelerator": "GPU",
    "colab": {
      "provenance": [],
      "gpuType": "T4"
    },
    "kernelspec": {
      "display_name": "Python 3",
      "name": "python3"
    },
    "language_info": {
      "name": "python"
    }
  },
  "nbformat": 4,
  "nbformat_minor": 0
}